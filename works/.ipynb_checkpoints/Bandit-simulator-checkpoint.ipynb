{
 "cells": [
  {
   "cell_type": "markdown",
   "id": "similar-realtor",
   "metadata": {},
   "source": [
    "# バンディットアルゴリズム　シミュレーター\n",
    "\n",
    "## Bandit Algorithm とは\n",
    "> 環境に対する不完全な事前知識を活用して行動し、環境を観測してデータを集めながら最適な行動を発見する（探索と活用）アルゴリズムがバンディットアルゴリズムです。 \n",
    "(https://techblog.zozo.com/entry/zozoresearch-bandit-overviews より引用) \n",
    "## 環境構築（インストールについて）\n",
    "このライブラリでは、Docker compose を利用したPython 環境を構築した。\n",
    "\n",
    "Docker 環境を使用するのが難しい場合、Docker を使用せず、Anacondaを\n",
    "インストールしてPython 環境を構築しても良い\n",
    "\n",
    "（後で記入する）"
   ]
  },
  {
   "cell_type": "markdown",
   "id": "incoming-usage",
   "metadata": {},
   "source": [
    "## 課題の定義について\n",
    "\n",
    "- 腕\n",
    "    - アタリの場合の報酬が1, ハズレの場合の報酬が0である5つの腕\n",
    "    - それぞれの腕はそれぞれ、アタリの確率が10%, 30%, 50%, 70%, 90%のベルヌーイ分布に従う。\n",
    "- （一回のシミュレーションにおける）試行回数\n",
    "    - 1000回\n",
    "- シミュレーション回数\n",
    "    - 1000回\n",
    "- 評価指標\n",
    "    1. 各試行回数における報酬の平均（早く最適な腕を見つける性能を評価）\n",
    "    2. 各試行回数までの累積報酬（500回の試行において全体的な報酬を最大化する性能を評価）\n",
    "- 比較アルゴリズム\n",
    "    - ε-greedy (ϵ=0.2ϵ=0.2)\n",
    "    - ε-greedy (ϵ=0.5ϵ=0.5)\n",
    "    - Softmax (τ=0.2τ=0.2)\n",
    "    - Softmax (τ=0.5τ=0.5)\n",
    "    - UCB1\n"
   ]
  },
  {
   "cell_type": "code",
   "execution_count": 1,
   "id": "entitled-supply",
   "metadata": {},
   "outputs": [],
   "source": [
    "import numpy as np \n",
    "import scipy as sp \n",
    "import pandas as pd \n",
    "import matplotlib.pyplot as plt\n",
    "import seaborn as sns\n"
   ]
  },
  {
   "cell_type": "code",
   "execution_count": null,
   "id": "respective-bride",
   "metadata": {},
   "outputs": [],
   "source": [
    "\n",
    "    "
   ]
  },
  {
   "cell_type": "code",
   "execution_count": null,
   "id": "olympic-repository",
   "metadata": {},
   "outputs": [],
   "source": []
  },
  {
   "cell_type": "code",
   "execution_count": null,
   "id": "ongoing-programming",
   "metadata": {},
   "outputs": [],
   "source": []
  }
 ],
 "metadata": {
  "kernelspec": {
   "display_name": "Python 3 (ipykernel)",
   "language": "python",
   "name": "python3"
  },
  "language_info": {
   "codemirror_mode": {
    "name": "ipython",
    "version": 3
   },
   "file_extension": ".py",
   "mimetype": "text/x-python",
   "name": "python",
   "nbconvert_exporter": "python",
   "pygments_lexer": "ipython3",
   "version": "3.9.5"
  }
 },
 "nbformat": 4,
 "nbformat_minor": 5
}

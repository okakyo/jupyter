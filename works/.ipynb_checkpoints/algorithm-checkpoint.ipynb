{
 "cells": [
  {
   "cell_type": "markdown",
   "id": "3946c568-4803-4a3d-8f97-72d47faed715",
   "metadata": {},
   "source": [
    "# アルゴリズム実装練習\n",
    "\n",
    "このノートブックでは、著名なアルゴリズムを実際にPython で実装し、\n",
    "アルゴリズムが動く様子を確認し、その動作を学ぶために行う。\n"
   ]
  },
  {
   "cell_type": "code",
   "execution_count": 1,
   "id": "40c8709d-8723-412a-bafe-0172fe37d5fc",
   "metadata": {},
   "outputs": [
    {
     "name": "stdout",
     "output_type": "stream",
     "text": [
      "Python 3.9.5\n"
     ]
    }
   ],
   "source": [
    "!python --version"
   ]
  },
  {
   "cell_type": "markdown",
   "id": "874bf6a5-4da5-4f69-b7f1-e23aeb564144",
   "metadata": {},
   "source": [
    "## 木構造について\n",
    "\n",
    "木構造は、探索アルゴリズムで頻繁に用いられるアルゴリズムである。\n",
    "\n"
   ]
  },
  {
   "cell_type": "markdown",
   "id": "9c96dc3a-7512-4193-8afa-e0bea91fefcd",
   "metadata": {},
   "source": [
    "## 2分探索\n",
    "\n",
    "2分探索は、すでにソート済みの配列において、　<br/>\n",
    "データの集合を二分（半分に）しながらデータの探索範囲を狭めていく探索アルゴリズムです。\n"
   ]
  },
  {
   "cell_type": "code",
   "execution_count": null,
   "id": "4cec2cbf-21f2-4321-a1d9-777be9af013e",
   "metadata": {},
   "outputs": [],
   "source": [
    "def bninary_sort(sorted_array:list[int])　=>int:\n",
    "    last = len(sorted_array)\n",
    "    \n",
    "    return"
   ]
  }
 ],
 "metadata": {
  "kernelspec": {
   "display_name": "Python 3 (ipykernel)",
   "language": "python",
   "name": "python3"
  },
  "language_info": {
   "codemirror_mode": {
    "name": "ipython",
    "version": 3
   },
   "file_extension": ".py",
   "mimetype": "text/x-python",
   "name": "python",
   "nbconvert_exporter": "python",
   "pygments_lexer": "ipython3",
   "version": "3.9.5"
  }
 },
 "nbformat": 4,
 "nbformat_minor": 5
}

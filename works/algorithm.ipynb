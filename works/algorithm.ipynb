{
 "cells": [
  {
   "cell_type": "markdown",
   "id": "3946c568-4803-4a3d-8f97-72d47faed715",
   "metadata": {},
   "source": [
    "# アルゴリズム実装練習\n",
    "\n",
    "このノートブックでは、著名なアルゴリズムを実際にPython で実装し、\n",
    "アルゴリズムが動く様子を確認し、その動作を学ぶために行う。\n"
   ]
  },
  {
   "cell_type": "code",
   "execution_count": 1,
   "id": "40c8709d-8723-412a-bafe-0172fe37d5fc",
   "metadata": {},
   "outputs": [
    {
     "name": "stdout",
     "output_type": "stream",
     "text": [
      "Python 3.9.5\n"
     ]
    }
   ],
   "source": [
    "!python --version"
   ]
  },
  {
   "cell_type": "markdown",
   "id": "874bf6a5-4da5-4f69-b7f1-e23aeb564144",
   "metadata": {},
   "source": [
    "## 木構造について\n",
    "\n",
    "木構造は、探索アルゴリズムで頻繁に用いられるアルゴリズムである。\n",
    "\n"
   ]
  },
  {
   "cell_type": "markdown",
   "id": "9c96dc3a-7512-4193-8afa-e0bea91fefcd",
   "metadata": {},
   "source": [
    "## 2分探索\n",
    "\n",
    "2分探索は、すでにソート済みの配列において、　<br/>\n",
    "データの集合を二分（半分に）しながらデータの探索範囲を狭めていく探索アルゴリズムです。\n"
   ]
  },
  {
   "cell_type": "code",
   "execution_count": 21,
   "id": "4cec2cbf-21f2-4321-a1d9-777be9af013e",
   "metadata": {},
   "outputs": [
    {
     "name": "stdout",
     "output_type": "stream",
     "text": [
      "7\n"
     ]
    }
   ],
   "source": [
    "def binary_sort(sorted_array:list[int],searchNum:int):\n",
    "    first =0\n",
    "    last = len(sorted_array)-1\n",
    "    \n",
    "    while(first<=last): \n",
    "        midNum = (first+last)//2\n",
    "        if(sorted_array[midNum]==searchNum):\n",
    "            return midNum\n",
    "        elif(sorted_array[midNum]> searchNum):\n",
    "            last= midNum-1\n",
    "        else:\n",
    "            first = midNum+1\n",
    "    return -1 \n",
    "    \n",
    "search_target = sorted([31,4,5,6,-3,4,5,9,101])\n",
    "\n",
    "print(binary_sort(search_target,31))"
   ]
  },
  {
   "cell_type": "markdown",
   "id": "25830c14-6ca0-4e36-a766-083f48f9cfac",
   "metadata": {},
   "source": [
    "## AVL Tree \n",
    "\n",
    "AVL木は平行二分探索木の一種であり、<br/>\n",
    "「どのノードについても、それぞれの子を根とする部分木の高さの差(以下、子の高さ)が1以下」という条件がある。<br/>\n",
    "なお、子が無い場合は、ここでは便宜上その子の高さは-1とみなす。\n"
   ]
  },
  {
   "cell_type": "markdown",
   "id": "955be7fc-4ec9-4d10-8c16-67f55b708ec6",
   "metadata": {},
   "source": []
  }
 ],
 "metadata": {
  "kernelspec": {
   "display_name": "Python 3 (ipykernel)",
   "language": "python",
   "name": "python3"
  },
  "language_info": {
   "codemirror_mode": {
    "name": "ipython",
    "version": 3
   },
   "file_extension": ".py",
   "mimetype": "text/x-python",
   "name": "python",
   "nbconvert_exporter": "python",
   "pygments_lexer": "ipython3",
   "version": "3.9.7"
  }
 },
 "nbformat": 4,
 "nbformat_minor": 5
}

{
 "cells": [
  {
   "cell_type": "code",
   "execution_count": 1,
   "id": "sapphire-aquatic",
   "metadata": {},
   "outputs": [
    {
     "ename": "ModuleNotFoundError",
     "evalue": "No module named 'iplantuml'",
     "output_type": "error",
     "traceback": [
      "\u001b[0;31m---------------------------------------------------------------------------\u001b[0m",
      "\u001b[0;31mModuleNotFoundError\u001b[0m                       Traceback (most recent call last)",
      "\u001b[0;32m/tmp/ipykernel_51/2450022056.py\u001b[0m in \u001b[0;36m<module>\u001b[0;34m\u001b[0m\n\u001b[0;32m----> 1\u001b[0;31m \u001b[0;32mimport\u001b[0m \u001b[0miplantuml\u001b[0m\u001b[0;34m\u001b[0m\u001b[0;34m\u001b[0m\u001b[0m\n\u001b[0m",
      "\u001b[0;31mModuleNotFoundError\u001b[0m: No module named 'iplantuml'"
     ]
    }
   ],
   "source": [
    "import iplantuml"
   ]
  },
  {
   "cell_type": "code",
   "execution_count": 3,
   "id": "identical-alabama",
   "metadata": {},
   "outputs": [
    {
     "data": {
      "image/svg+xml": [
       "<svg xmlns=\"http://www.w3.org/2000/svg\" xmlns:xlink=\"http://www.w3.org/1999/xlink\" contentScriptType=\"application/ecmascript\" contentStyleType=\"text/css\" height=\"255px\" preserveAspectRatio=\"none\" style=\"width:302px;height:255px;\" version=\"1.1\" viewBox=\"0 0 302 255\" width=\"302px\" zoomAndPan=\"magnify\"><defs><filter height=\"300%\" id=\"fphxmg53juilv\" width=\"300%\" x=\"-1\" y=\"-1\"><feGaussianBlur result=\"blurOut\" stdDeviation=\"2.0\"/><feColorMatrix in=\"blurOut\" result=\"blurOut2\" type=\"matrix\" values=\"0 0 0 0 0 0 0 0 0 0 0 0 0 0 0 0 0 0 .4 0\"/><feOffset dx=\"4.0\" dy=\"4.0\" in=\"blurOut2\" result=\"blurOut3\"/><feBlend in=\"SourceGraphic\" in2=\"blurOut3\" mode=\"normal\"/></filter></defs><g><text fill=\"#000000\" font-family=\"sans-serif\" font-size=\"18\" lengthAdjust=\"spacing\" textLength=\"108\" x=\"94.5\" y=\"28.708\">シーケンス図</text><line style=\"stroke:#A80036;stroke-width:1.0;stroke-dasharray:5.0,5.0;\" x1=\"31\" x2=\"31\" y1=\"75.25\" y2=\"211.7813\"/><line style=\"stroke:#A80036;stroke-width:1.0;stroke-dasharray:5.0,5.0;\" x1=\"268\" x2=\"268\" y1=\"75.25\" y2=\"211.7813\"/><rect fill=\"#FEFECE\" filter=\"url(#fphxmg53juilv)\" height=\"30.2969\" style=\"stroke:#A80036;stroke-width:1.5;\" width=\"49\" x=\"5\" y=\"39.9531\"/><text fill=\"#000000\" font-family=\"sans-serif\" font-size=\"14\" lengthAdjust=\"spacing\" textLength=\"35\" x=\"12\" y=\"59.9482\">Alice</text><rect fill=\"#FEFECE\" filter=\"url(#fphxmg53juilv)\" height=\"30.2969\" style=\"stroke:#A80036;stroke-width:1.5;\" width=\"49\" x=\"5\" y=\"210.7813\"/><text fill=\"#000000\" font-family=\"sans-serif\" font-size=\"14\" lengthAdjust=\"spacing\" textLength=\"35\" x=\"12\" y=\"230.7764\">Alice</text><rect fill=\"#FEFECE\" filter=\"url(#fphxmg53juilv)\" height=\"30.2969\" style=\"stroke:#A80036;stroke-width:1.5;\" width=\"43\" x=\"245\" y=\"39.9531\"/><text fill=\"#000000\" font-family=\"sans-serif\" font-size=\"14\" lengthAdjust=\"spacing\" textLength=\"29\" x=\"252\" y=\"59.9482\">Bob</text><rect fill=\"#FEFECE\" filter=\"url(#fphxmg53juilv)\" height=\"30.2969\" style=\"stroke:#A80036;stroke-width:1.5;\" width=\"43\" x=\"245\" y=\"210.7813\"/><text fill=\"#000000\" font-family=\"sans-serif\" font-size=\"14\" lengthAdjust=\"spacing\" textLength=\"29\" x=\"252\" y=\"230.7764\">Bob</text><polygon fill=\"#A80036\" points=\"256.5,102.3828,266.5,106.3828,256.5,110.3828,260.5,106.3828\" style=\"stroke:#A80036;stroke-width:1.0;\"/><line style=\"stroke:#A80036;stroke-width:1.0;\" x1=\"31.5\" x2=\"262.5\" y1=\"106.3828\" y2=\"106.3828\"/><text fill=\"#000000\" font-family=\"sans-serif\" font-size=\"13\" lengthAdjust=\"spacing\" textLength=\"150\" x=\"38.5\" y=\"101.3169\">Authentication Request</text><polygon fill=\"#A80036\" points=\"42.5,131.5156,32.5,135.5156,42.5,139.5156,38.5,135.5156\" style=\"stroke:#A80036;stroke-width:1.0;\"/><line style=\"stroke:#A80036;stroke-width:1.0;stroke-dasharray:2.0,2.0;\" x1=\"36.5\" x2=\"267.5\" y1=\"135.5156\" y2=\"135.5156\"/><text fill=\"#000000\" font-family=\"sans-serif\" font-size=\"13\" lengthAdjust=\"spacing\" textLength=\"160\" x=\"48.5\" y=\"130.4497\">Authentication Response</text><polygon fill=\"#A80036\" points=\"256.5,160.6484,266.5,164.6484,256.5,168.6484,260.5,164.6484\" style=\"stroke:#A80036;stroke-width:1.0;\"/><line style=\"stroke:#A80036;stroke-width:1.0;\" x1=\"31.5\" x2=\"262.5\" y1=\"164.6484\" y2=\"164.6484\"/><text fill=\"#000000\" font-family=\"sans-serif\" font-size=\"13\" lengthAdjust=\"spacing\" textLength=\"204\" x=\"38.5\" y=\"159.5825\">Another authentication Request</text><polygon fill=\"#A80036\" points=\"42.5,189.7813,32.5,193.7813,42.5,197.7813,38.5,193.7813\" style=\"stroke:#A80036;stroke-width:1.0;\"/><line style=\"stroke:#A80036;stroke-width:1.0;stroke-dasharray:2.0,2.0;\" x1=\"36.5\" x2=\"267.5\" y1=\"193.7813\" y2=\"193.7813\"/><text fill=\"#000000\" font-family=\"sans-serif\" font-size=\"13\" lengthAdjust=\"spacing\" textLength=\"213\" x=\"48.5\" y=\"188.7153\">another authentication Response</text><!--MD5=[30bc7e216eabbc14f67ececc96e28e4a]\n",
       "@startuml\n",
       "Title シーケンス図\n",
       "Alice -> Bob: Authentication Request\n",
       "Bob - -> Alice: Authentication Response\n",
       "\n",
       "Alice -> Bob: Another authentication Request\n",
       "Alice <- - Bob: another authentication Response\n",
       "@enduml\n",
       "\n",
       "PlantUML version 1.2021.5beta3(Unknown compile time)\n",
       "(GPL source distribution)\n",
       "Java Runtime: Java(TM) SE Runtime Environment\n",
       "JVM: Java HotSpot(TM) 64-Bit Server VM\n",
       "Default Encoding: UTF-8\n",
       "Language: en\n",
       "Country: US\n",
       "--></g></svg>"
      ],
      "text/plain": [
       "<IPython.core.display.SVG object>"
      ]
     },
     "execution_count": 3,
     "metadata": {},
     "output_type": "execute_result"
    }
   ],
   "source": [
    "%%plantuml\n",
    "@startuml\n",
    "Title シーケンス図\n",
    "Alice -> Bob: Authentication Request\n",
    "Bob --> Alice: Authentication Response\n",
    "\n",
    "Alice -> Bob: Another authentication Request\n",
    "Alice <-- Bob: another authentication Response\n",
    "@enduml"
   ]
  },
  {
   "cell_type": "code",
   "execution_count": 4,
   "id": "flush-object",
   "metadata": {},
   "outputs": [
    {
     "data": {
      "image/svg+xml": [
       "<svg xmlns=\"http://www.w3.org/2000/svg\" xmlns:xlink=\"http://www.w3.org/1999/xlink\" contentScriptType=\"application/ecmascript\" contentStyleType=\"text/css\" height=\"377px\" preserveAspectRatio=\"none\" style=\"width:300px;height:377px;\" version=\"1.1\" viewBox=\"0 0 300 377\" width=\"300px\" zoomAndPan=\"magnify\"><defs><filter height=\"300%\" id=\"f1mari8m1u3ktl\" width=\"300%\" x=\"-1\" y=\"-1\"><feGaussianBlur result=\"blurOut\" stdDeviation=\"2.0\"/><feColorMatrix in=\"blurOut\" result=\"blurOut2\" type=\"matrix\" values=\"0 0 0 0 0 0 0 0 0 0 0 0 0 0 0 0 0 0 .4 0\"/><feOffset dx=\"4.0\" dy=\"4.0\" in=\"blurOut2\" result=\"blurOut3\"/><feBlend in=\"SourceGraphic\" in2=\"blurOut3\" mode=\"normal\"/></filter></defs><g><text fill=\"#000000\" font-family=\"sans-serif\" font-size=\"18\" lengthAdjust=\"spacing\" textLength=\"126\" x=\"80.75\" y=\"16.708\">ユースケース図</text><!--MD5=[fee662a292a0353a69bd162820bae93b]\n",
       "entity User--><ellipse cx=\"21.5\" cy=\"176.9531\" fill=\"#FEFECE\" filter=\"url(#f1mari8m1u3ktl)\" rx=\"8\" ry=\"8\" style=\"stroke:#A80036;stroke-width:1.5;\"/><path d=\"M21.5,184.9531 L21.5,211.9531 M8.5,192.9531 L34.5,192.9531 M21.5,211.9531 L8.5,226.9531 M21.5,211.9531 L34.5,226.9531 \" fill=\"none\" filter=\"url(#f1mari8m1u3ktl)\" style=\"stroke:#A80036;stroke-width:1.5;\"/><text fill=\"#000000\" font-family=\"sans-serif\" font-size=\"14\" lengthAdjust=\"spacing\" textLength=\"31\" x=\"6\" y=\"245.4482\">User</text><ellipse cx=\"109.7231\" cy=\"208.0017\" fill=\"#FEFECE\" filter=\"url(#f1mari8m1u3ktl)\" rx=\"37.7231\" ry=\"14.5485\" style=\"stroke:#A80036;stroke-width:1.5;\"/><text fill=\"#000000\" font-family=\"sans-serif\" font-size=\"14\" lengthAdjust=\"spacing\" textLength=\"37\" x=\"89.6116\" y=\"211.3843\">Start</text><ellipse cx=\"141.2915\" cy=\"345.6114\" fill=\"#FEFECE\" filter=\"url(#f1mari8m1u3ktl)\" rx=\"88.7915\" ry=\"20.1583\" style=\"stroke:#A80036;stroke-width:1.5;\"/><text fill=\"#000000\" font-family=\"sans-serif\" font-size=\"14\" lengthAdjust=\"spacing\" textLength=\"139\" x=\"71.7915\" y=\"348.4581\">Use the application</text><!--MD5=[9d80a031e6d406631f1782a5e0bf8feb]\n",
       "entity Main Admin--><ellipse cx=\"217.5\" cy=\"34.9531\" fill=\"#FEFECE\" filter=\"url(#f1mari8m1u3ktl)\" rx=\"8\" ry=\"8\" style=\"stroke:#A80036;stroke-width:1.5;\"/><path d=\"M217.5,42.9531 L217.5,69.9531 M204.5,50.9531 L230.5,50.9531 M217.5,69.9531 L204.5,84.9531 M217.5,69.9531 L230.5,84.9531 \" fill=\"none\" filter=\"url(#f1mari8m1u3ktl)\" style=\"stroke:#A80036;stroke-width:1.5;\"/><text fill=\"#000000\" font-family=\"sans-serif\" font-size=\"14\" lengthAdjust=\"spacing\" textLength=\"83\" x=\"176\" y=\"103.4482\">Main Admin</text><!--MD5=[f4b2be5085d6f52f3a0e36c62efcf3ad]\n",
       "link User to Start--><path d=\"M37.3125,207.9531 C47.1577,207.9531 57.0028,207.9531 66.848,207.9531 \" fill=\"none\" id=\"User-to-Start\" style=\"stroke:#A80036;stroke-width:1.0;\"/><polygon fill=\"#A80036\" points=\"71.9963,207.9531,62.9963,203.9531,66.9963,207.9531,62.9963,211.9531,71.9963,207.9531\" style=\"stroke:#A80036;stroke-width:1.0;\"/><!--MD5=[d0b0c59f33bd08b0398cb18ab70d3659]\n",
       "link User to Use the application--><path d=\"M37.1251,227.9701 C42.5679,234.5101 48.7512,241.8471 54.5,248.4531 C76.6482,273.9042 102.7106,302.4888 120.496,321.7969 \" fill=\"none\" id=\"User-to-Use the application\" style=\"stroke:#A80036;stroke-width:1.0;\"/><polygon fill=\"#A80036\" points=\"123.939,325.5311,120.7803,316.2025,120.5502,321.8547,114.8981,321.6246,123.939,325.5311\" style=\"stroke:#A80036;stroke-width:1.0;\"/><text fill=\"#000000\" font-family=\"sans-serif\" font-size=\"13\" lengthAdjust=\"spacing\" textLength=\"81\" x=\"96.5\" y=\"291.52\">A small label</text><!--MD5=[84f62c86aeb01e7b0e45c962b4c6c2da]\n",
       "link Main Admin to Use the application--><path d=\"M219.149,106.5481 C219.575,153.7701 215.333,234.0261 186.5,295.4531 C181.861,305.3368 174.512,314.6026 167.087,322.359 \" fill=\"none\" id=\"Main Admin-to-Use the application\" style=\"stroke:#A80036;stroke-width:1.0;\"/><polygon fill=\"#A80036\" points=\"163.447,326.0416,172.618,322.451,166.9613,322.4849,166.9273,316.8282,163.447,326.0416\" style=\"stroke:#A80036;stroke-width:1.0;\"/><text fill=\"#000000\" font-family=\"sans-serif\" font-size=\"13\" lengthAdjust=\"spacing\" textLength=\"40\" x=\"235\" y=\"197.52\">This is</text><text fill=\"#000000\" font-family=\"sans-serif\" font-size=\"13\" lengthAdjust=\"spacing\" textLength=\"75\" x=\"217.5\" y=\"212.6528\">yet another</text><text fill=\"#000000\" font-family=\"sans-serif\" font-size=\"13\" lengthAdjust=\"spacing\" textLength=\"30\" x=\"240\" y=\"227.7856\">label</text><!--MD5=[608190c475f5f8543ebdd3898499ab2d]\n",
       "@startuml\n",
       "Title ユースケース図\n",
       "User -> (Start)\n",
       "User - -> (Use the application) : A small label\n",
       "\n",
       ":Main Admin: - - -> (Use the application) : This is\\nyet another\\nlabel\n",
       "@enduml\n",
       "\n",
       "PlantUML version 1.2021.5beta3(Unknown compile time)\n",
       "(GPL source distribution)\n",
       "Java Runtime: Java(TM) SE Runtime Environment\n",
       "JVM: Java HotSpot(TM) 64-Bit Server VM\n",
       "Default Encoding: UTF-8\n",
       "Language: en\n",
       "Country: US\n",
       "--></g></svg>"
      ],
      "text/plain": [
       "<IPython.core.display.SVG object>"
      ]
     },
     "execution_count": 4,
     "metadata": {},
     "output_type": "execute_result"
    }
   ],
   "source": [
    "%%plantuml\n",
    "@startuml\n",
    "Title ユースケース図\n",
    "User -> (Start)\n",
    "User --> (Use the application) : A small label\n",
    "\n",
    ":Main Admin: ---> (Use the application) : This is\\nyet another\\nlabel\n",
    "@enduml"
   ]
  },
  {
   "cell_type": "code",
   "execution_count": 5,
   "id": "superior-bangladesh",
   "metadata": {},
   "outputs": [
    {
     "data": {
      "image/svg+xml": [
       "<svg xmlns=\"http://www.w3.org/2000/svg\" xmlns:xlink=\"http://www.w3.org/1999/xlink\" contentScriptType=\"application/ecmascript\" contentStyleType=\"text/css\" height=\"411px\" preserveAspectRatio=\"none\" style=\"width:632px;height:411px;\" version=\"1.1\" viewBox=\"0 0 632 411\" width=\"632px\" zoomAndPan=\"magnify\"><defs><filter height=\"300%\" id=\"f1a723taoruy4i\" width=\"300%\" x=\"-1\" y=\"-1\"><feGaussianBlur result=\"blurOut\" stdDeviation=\"2.0\"/><feColorMatrix in=\"blurOut\" result=\"blurOut2\" type=\"matrix\" values=\"0 0 0 0 0 0 0 0 0 0 0 0 0 0 0 0 0 0 .4 0\"/><feOffset dx=\"4.0\" dy=\"4.0\" in=\"blurOut2\" result=\"blurOut3\"/><feBlend in=\"SourceGraphic\" in2=\"blurOut3\" mode=\"normal\"/></filter></defs><g><text fill=\"#000000\" font-family=\"sans-serif\" font-size=\"18\" lengthAdjust=\"spacing\" textLength=\"72\" x=\"272.5\" y=\"16.708\">クラス図</text><!--MD5=[aa7f586532e18719e6cefa70fc650583]\n",
       "class Object--><rect codeLine=\"2\" fill=\"#FEFECE\" filter=\"url(#f1a723taoruy4i)\" height=\"53.9375\" id=\"Object\" style=\"stroke:#A80036;stroke-width:1.5;\" width=\"87\" x=\"314.5\" y=\"135.9531\"/><ellipse cx=\"329.5\" cy=\"154.9219\" fill=\"#ADD1B2\" rx=\"11\" ry=\"11\" style=\"stroke:#A80036;stroke-width:1.0;\"/><path d=\"M331.8438,150.5938 C330.9063,150.1563 330.3125,150.0156 329.4375,150.0156 C326.8125,150.0156 324.8125,152.0938 324.8125,154.8125 L324.8125,155.9375 C324.8125,158.5156 326.9219,160.4063 329.8125,160.4063 C331.0313,160.4063 332.1875,160.1094 332.9375,159.5625 C333.5156,159.1563 333.8438,158.7031 333.8438,158.3125 C333.8438,157.8594 333.4531,157.4688 332.9844,157.4688 C332.7656,157.4688 332.5625,157.5469 332.375,157.7344 C331.9219,158.2188 331.9219,158.2188 331.7344,158.3125 C331.3125,158.5781 330.625,158.7031 329.8594,158.7031 C327.8125,158.7031 326.5156,157.6094 326.5156,155.9063 L326.5156,154.8125 C326.5156,153.0313 327.7656,151.7188 329.5,151.7188 C330.0781,151.7188 330.6875,151.875 331.1563,152.125 C331.6406,152.4063 331.8125,152.625 331.9063,153.0313 C331.9688,153.4375 332,153.5625 332.1406,153.6875 C332.2813,153.8281 332.5156,153.9375 332.7344,153.9375 C333,153.9375 333.2656,153.7969 333.4375,153.5781 C333.5469,153.4219 333.5781,153.2344 333.5781,152.8125 L333.5781,151.3906 C333.5781,150.9531 333.5625,150.8281 333.4688,150.6719 C333.3125,150.4063 333.0313,150.2656 332.7344,150.2656 C332.4375,150.2656 332.2344,150.3594 332.0156,150.6719 L331.8438,150.5938 Z \" fill=\"#000000\"/><text fill=\"#000000\" font-family=\"sans-serif\" font-size=\"12\" font-style=\"italic\" lengthAdjust=\"spacing\" textLength=\"59\" x=\"341.5\" y=\"152.0918\">«general»</text><text fill=\"#000000\" font-family=\"sans-serif\" font-size=\"12\" lengthAdjust=\"spacing\" textLength=\"40\" x=\"351\" y=\"166.0605\">Object</text><line style=\"stroke:#A80036;stroke-width:1.5;\" x1=\"315.5\" x2=\"400.5\" y1=\"173.8906\" y2=\"173.8906\"/><line style=\"stroke:#A80036;stroke-width:1.5;\" x1=\"315.5\" x2=\"400.5\" y1=\"181.8906\" y2=\"181.8906\"/><!--MD5=[ab8871ed637f40707b866ba6597734bc]\n",
       "class ArrayList--><rect fill=\"#FEFECE\" filter=\"url(#f1a723taoruy4i)\" height=\"48\" id=\"ArrayList\" style=\"stroke:#A80036;stroke-width:1.5;\" width=\"84\" x=\"316\" y=\"349.9531\"/><ellipse cx=\"331\" cy=\"365.9531\" fill=\"#ADD1B2\" rx=\"11\" ry=\"11\" style=\"stroke:#A80036;stroke-width:1.0;\"/><path d=\"M333.3438,361.625 C332.4063,361.1875 331.8125,361.0469 330.9375,361.0469 C328.3125,361.0469 326.3125,363.125 326.3125,365.8438 L326.3125,366.9688 C326.3125,369.5469 328.4219,371.4375 331.3125,371.4375 C332.5313,371.4375 333.6875,371.1406 334.4375,370.5938 C335.0156,370.1875 335.3438,369.7344 335.3438,369.3438 C335.3438,368.8906 334.9531,368.5 334.4844,368.5 C334.2656,368.5 334.0625,368.5781 333.875,368.7656 C333.4219,369.25 333.4219,369.25 333.2344,369.3438 C332.8125,369.6094 332.125,369.7344 331.3594,369.7344 C329.3125,369.7344 328.0156,368.6406 328.0156,366.9375 L328.0156,365.8438 C328.0156,364.0625 329.2656,362.75 331,362.75 C331.5781,362.75 332.1875,362.9063 332.6563,363.1563 C333.1406,363.4375 333.3125,363.6563 333.4063,364.0625 C333.4688,364.4688 333.5,364.5938 333.6406,364.7188 C333.7813,364.8594 334.0156,364.9688 334.2344,364.9688 C334.5,364.9688 334.7656,364.8281 334.9375,364.6094 C335.0469,364.4531 335.0781,364.2656 335.0781,363.8438 L335.0781,362.4219 C335.0781,361.9844 335.0625,361.8594 334.9688,361.7031 C334.8125,361.4375 334.5313,361.2969 334.2344,361.2969 C333.9375,361.2969 333.7344,361.3906 333.5156,361.7031 L333.3438,361.625 Z \" fill=\"#000000\"/><text fill=\"#000000\" font-family=\"sans-serif\" font-size=\"12\" lengthAdjust=\"spacing\" textLength=\"52\" x=\"345\" y=\"370.1074\">ArrayList</text><line style=\"stroke:#A80036;stroke-width:1.5;\" x1=\"317\" x2=\"399\" y1=\"381.9531\" y2=\"381.9531\"/><line style=\"stroke:#A80036;stroke-width:1.5;\" x1=\"317\" x2=\"399\" y1=\"389.9531\" y2=\"389.9531\"/><path d=\"M286,31.9531 L286,72.2188 A0,0 0 0 0 286,72.2188 L354,72.2188 L358,135.5501 L362,72.2188 L430,72.2188 A0,0 0 0 0 430,72.2188 L430,41.9531 L420,31.9531 L286,31.9531 A0,0 0 0 0 286,31.9531 \" fill=\"#FBFB77\" filter=\"url(#f1a723taoruy4i)\" style=\"stroke:#A80036;stroke-width:1.0;\"/><path d=\"M420,31.9531 L420,41.9531 L430,41.9531 L420,31.9531 \" fill=\"#FBFB77\" style=\"stroke:#A80036;stroke-width:1.0;\"/><text fill=\"#000000\" font-family=\"sans-serif\" font-size=\"13\" lengthAdjust=\"spacing\" textLength=\"123\" x=\"292\" y=\"49.02\">In java, every class</text><text fill=\"#000000\" font-family=\"sans-serif\" font-size=\"13\" lengthAdjust=\"spacing\" textLength=\"111\" x=\"292\" y=\"64.1528\">extends this one.</text><path d=\"M465,39.4531 L465,64.5859 L623,64.5859 L623,49.4531 L613,39.4531 L465,39.4531 \" fill=\"#FBFB77\" filter=\"url(#f1a723taoruy4i)\" style=\"stroke:#A80036;stroke-width:1.0;\"/><path d=\"M613,39.4531 L613,49.4531 L623,49.4531 L613,39.4531 \" fill=\"#FBFB77\" style=\"stroke:#A80036;stroke-width:1.0;\"/><text fill=\"#000000\" font-family=\"sans-serif\" font-size=\"13\" lengthAdjust=\"spacing\" textLength=\"137\" x=\"471\" y=\"56.52\">This is a floating note</text><path d=\"M343.5,249.9531 L343.5,290.2188 L508.5,290.2188 L508.5,259.9531 L498.5,249.9531 L343.5,249.9531 \" fill=\"#FBFB77\" filter=\"url(#f1a723taoruy4i)\" style=\"stroke:#A80036;stroke-width:1.0;\"/><path d=\"M498.5,249.9531 L498.5,259.9531 L508.5,259.9531 L498.5,249.9531 \" fill=\"#FBFB77\" style=\"stroke:#A80036;stroke-width:1.0;\"/><text fill=\"#000000\" font-family=\"sans-serif\" font-size=\"13\" lengthAdjust=\"spacing\" textLength=\"144\" x=\"349.5\" y=\"267.02\">This note is connected</text><text fill=\"#000000\" font-family=\"sans-serif\" font-size=\"13\" lengthAdjust=\"spacing\" textLength=\"118\" x=\"349.5\" y=\"282.1528\">to several objects.</text><!--MD5=[d10371c429a20e8e62c953c705282488]\n",
       "class Foo--><rect codeLine=\"12\" fill=\"#FEFECE\" filter=\"url(#f1a723taoruy4i)\" height=\"48\" id=\"Foo\" style=\"stroke:#A80036;stroke-width:1.5;\" width=\"55\" x=\"195.5\" y=\"27.9531\"/><ellipse cx=\"210.5\" cy=\"43.9531\" fill=\"#ADD1B2\" rx=\"11\" ry=\"11\" style=\"stroke:#A80036;stroke-width:1.0;\"/><path d=\"M212.8438,39.625 C211.9063,39.1875 211.3125,39.0469 210.4375,39.0469 C207.8125,39.0469 205.8125,41.125 205.8125,43.8438 L205.8125,44.9688 C205.8125,47.5469 207.9219,49.4375 210.8125,49.4375 C212.0313,49.4375 213.1875,49.1406 213.9375,48.5938 C214.5156,48.1875 214.8438,47.7344 214.8438,47.3438 C214.8438,46.8906 214.4531,46.5 213.9844,46.5 C213.7656,46.5 213.5625,46.5781 213.375,46.7656 C212.9219,47.25 212.9219,47.25 212.7344,47.3438 C212.3125,47.6094 211.625,47.7344 210.8594,47.7344 C208.8125,47.7344 207.5156,46.6406 207.5156,44.9375 L207.5156,43.8438 C207.5156,42.0625 208.7656,40.75 210.5,40.75 C211.0781,40.75 211.6875,40.9063 212.1563,41.1563 C212.6406,41.4375 212.8125,41.6563 212.9063,42.0625 C212.9688,42.4688 213,42.5938 213.1406,42.7188 C213.2813,42.8594 213.5156,42.9688 213.7344,42.9688 C214,42.9688 214.2656,42.8281 214.4375,42.6094 C214.5469,42.4531 214.5781,42.2656 214.5781,41.8438 L214.5781,40.4219 C214.5781,39.9844 214.5625,39.8594 214.4688,39.7031 C214.3125,39.4375 214.0313,39.2969 213.7344,39.2969 C213.4375,39.2969 213.2344,39.3906 213.0156,39.7031 L212.8438,39.625 Z \" fill=\"#000000\"/><text fill=\"#000000\" font-family=\"sans-serif\" font-size=\"12\" lengthAdjust=\"spacing\" textLength=\"23\" x=\"224.5\" y=\"48.1074\">Foo</text><line style=\"stroke:#A80036;stroke-width:1.5;\" x1=\"196.5\" x2=\"249.5\" y1=\"59.9531\" y2=\"59.9531\"/><line style=\"stroke:#A80036;stroke-width:1.5;\" x1=\"196.5\" x2=\"249.5\" y1=\"67.9531\" y2=\"67.9531\"/><path d=\"M6,39.4531 L6,64.5859 A0,0 0 0 0 6,64.5859 L160,64.5859 A0,0 0 0 0 160,64.5859 L160,57.4531 L195.485,51.9531 L160,49.4531 L160,49.4531 L150,39.4531 L6,39.4531 A0,0 0 0 0 6,39.4531 \" fill=\"#FBFB77\" filter=\"url(#f1a723taoruy4i)\" style=\"stroke:#A80036;stroke-width:1.0;\"/><path d=\"M150,39.4531 L150,49.4531 L160,49.4531 L150,39.4531 \" fill=\"#FBFB77\" style=\"stroke:#A80036;stroke-width:1.0;\"/><text fill=\"#000000\" font-family=\"sans-serif\" font-size=\"13\" lengthAdjust=\"spacing\" textLength=\"133\" x=\"12\" y=\"56.52\">On last defined class</text><!--MD5=[78ed3d54c6ad96fb6434a4e45aa4b5f0]\n",
       "reverse link Object to ArrayList--><path codeLine=\"3\" d=\"M336.744,209.1041 C327.999,232.9771 320.961,262.8731 326,289.9531 C329.899,310.9055 338.893,333.3875 346.356,349.6614 \" fill=\"none\" id=\"Object-backto-ArrayList\" style=\"stroke:#A80036;stroke-width:1.0;\"/><polygon fill=\"none\" points=\"330.391,206.1461,344.436,190.2801,343.351,211.4421,330.391,206.1461\" style=\"stroke:#A80036;stroke-width:1.0;\"/><!--MD5=[3e4c2ab897744bf32c2b923a407c86d6]\n",
       "link Object to N2--><path codeLine=\"9\" d=\"M374.984,190.1781 C386.943,208.6441 402.686,232.9531 413.503,249.6561 \" fill=\"none\" id=\"Object-N2\" style=\"stroke:#A80036;stroke-width:1.0;stroke-dasharray:7.0,7.0;\"/><!--MD5=[5a614eaa38e8d197576af088f89b713e]\n",
       "link N2 to ArrayList--><path codeLine=\"10\" d=\"M413.21,290.1381 C401.899,307.1049 385.374,331.8927 373.352,349.9252 \" fill=\"none\" id=\"N2-ArrayList\" style=\"stroke:#A80036;stroke-width:1.0;stroke-dasharray:7.0,7.0;\"/><!--MD5=[9ce1f1b9be6a64000f36d7d2b33124ae]\n",
       "@startuml\n",
       "Title クラス図\n",
       "class Object << general >>\n",
       "Object <|- - - ArrayList\n",
       "\n",
       "note top of Object : In java, every class\\nextends this one.\n",
       "\n",
       "note \"This is a floating note\" as N1\n",
       "note \"This note is connected\\nto several objects.\" as N2\n",
       "Object .. N2\n",
       "N2 .. ArrayList\n",
       "\n",
       "class Foo\n",
       "note left: On last defined class\n",
       "@enduml\n",
       "\n",
       "PlantUML version 1.2021.5beta3(Unknown compile time)\n",
       "(GPL source distribution)\n",
       "Java Runtime: Java(TM) SE Runtime Environment\n",
       "JVM: Java HotSpot(TM) 64-Bit Server VM\n",
       "Default Encoding: UTF-8\n",
       "Language: en\n",
       "Country: US\n",
       "--></g></svg>"
      ],
      "text/plain": [
       "<IPython.core.display.SVG object>"
      ]
     },
     "execution_count": 5,
     "metadata": {},
     "output_type": "execute_result"
    }
   ],
   "source": [
    "%%plantuml\n",
    "@startuml\n",
    "Title クラス図\n",
    "class Object << general >>\n",
    "Object <|--- ArrayList\n",
    "\n",
    "note top of Object : In java, every class\\nextends this one.\n",
    "\n",
    "note \"This is a floating note\" as N1\n",
    "note \"This note is connected\\nto several objects.\" as N2\n",
    "Object .. N2\n",
    "N2 .. ArrayList\n",
    "\n",
    "class Foo\n",
    "note left: On last defined class\n",
    "\n",
    "@enduml"
   ]
  },
  {
   "cell_type": "code",
   "execution_count": 6,
   "id": "certain-ensemble",
   "metadata": {},
   "outputs": [
    {
     "data": {
      "image/svg+xml": [
       "<svg xmlns=\"http://www.w3.org/2000/svg\" xmlns:xlink=\"http://www.w3.org/1999/xlink\" contentScriptType=\"application/ecmascript\" contentStyleType=\"text/css\" height=\"210px\" preserveAspectRatio=\"none\" style=\"width:403px;height:210px;\" version=\"1.1\" viewBox=\"0 0 403 210\" width=\"403px\" zoomAndPan=\"magnify\"><defs><filter height=\"300%\" id=\"f7fmqnpf85pgn\" width=\"300%\" x=\"-1\" y=\"-1\"><feGaussianBlur result=\"blurOut\" stdDeviation=\"2.0\"/><feColorMatrix in=\"blurOut\" result=\"blurOut2\" type=\"matrix\" values=\"0 0 0 0 0 0 0 0 0 0 0 0 0 0 0 0 0 0 .4 0\"/><feOffset dx=\"4.0\" dy=\"4.0\" in=\"blurOut2\" result=\"blurOut3\"/><feBlend in=\"SourceGraphic\" in2=\"blurOut3\" mode=\"normal\"/></filter></defs><g><text fill=\"#000000\" font-family=\"sans-serif\" font-size=\"18\" lengthAdjust=\"spacing\" textLength=\"144\" x=\"123.25\" y=\"16.708\">コンポーネント図</text><!--MD5=[55f540cd8b6a734315553e03bc00f72c]\n",
       "entity First component--><rect fill=\"#FEFECE\" filter=\"url(#f7fmqnpf85pgn)\" height=\"46.2969\" style=\"stroke:#A80036;stroke-width:1.5;\" width=\"160\" x=\"7\" y=\"27.9531\"/><rect fill=\"#FEFECE\" height=\"10\" style=\"stroke:#A80036;stroke-width:1.5;\" width=\"15\" x=\"147\" y=\"32.9531\"/><rect fill=\"#FEFECE\" height=\"2\" style=\"stroke:#A80036;stroke-width:1.5;\" width=\"4\" x=\"145\" y=\"34.9531\"/><rect fill=\"#FEFECE\" height=\"2\" style=\"stroke:#A80036;stroke-width:1.5;\" width=\"4\" x=\"145\" y=\"38.9531\"/><text fill=\"#000000\" font-family=\"sans-serif\" font-size=\"14\" lengthAdjust=\"spacing\" textLength=\"120\" x=\"22\" y=\"60.9482\">First component</text><!--MD5=[fcc35125a50bf27f0a58c916e8462e43]\n",
       "entity Comp2--><rect fill=\"#FEFECE\" filter=\"url(#f7fmqnpf85pgn)\" height=\"46.2969\" style=\"stroke:#A80036;stroke-width:1.5;\" width=\"187\" x=\"202.5\" y=\"27.9531\"/><rect fill=\"#FEFECE\" height=\"10\" style=\"stroke:#A80036;stroke-width:1.5;\" width=\"15\" x=\"369.5\" y=\"32.9531\"/><rect fill=\"#FEFECE\" height=\"2\" style=\"stroke:#A80036;stroke-width:1.5;\" width=\"4\" x=\"367.5\" y=\"34.9531\"/><rect fill=\"#FEFECE\" height=\"2\" style=\"stroke:#A80036;stroke-width:1.5;\" width=\"4\" x=\"367.5\" y=\"38.9531\"/><text fill=\"#000000\" font-family=\"sans-serif\" font-size=\"14\" lengthAdjust=\"spacing\" textLength=\"147\" x=\"217.5\" y=\"60.9482\">Another component</text><!--MD5=[99ef4bc05d5a915b836f531a99206dc2]\n",
       "entity Comp3--><rect fill=\"#FEFECE\" filter=\"url(#f7fmqnpf85pgn)\" height=\"46.2969\" style=\"stroke:#A80036;stroke-width:1.5;\" width=\"92\" x=\"41\" y=\"142.4531\"/><rect fill=\"#FEFECE\" height=\"10\" style=\"stroke:#A80036;stroke-width:1.5;\" width=\"15\" x=\"113\" y=\"147.4531\"/><rect fill=\"#FEFECE\" height=\"2\" style=\"stroke:#A80036;stroke-width:1.5;\" width=\"4\" x=\"111\" y=\"149.4531\"/><rect fill=\"#FEFECE\" height=\"2\" style=\"stroke:#A80036;stroke-width:1.5;\" width=\"4\" x=\"111\" y=\"153.4531\"/><text fill=\"#000000\" font-family=\"sans-serif\" font-size=\"14\" lengthAdjust=\"spacing\" textLength=\"52\" x=\"56\" y=\"175.4482\">Comp3</text><!--MD5=[9cfae8aaee43ceeb6127c652bd5114d8]\n",
       "entity Comp4--><rect fill=\"#FEFECE\" filter=\"url(#f7fmqnpf85pgn)\" height=\"62.5938\" style=\"stroke:#A80036;stroke-width:1.5;\" width=\"124\" x=\"168\" y=\"133.9531\"/><rect fill=\"#FEFECE\" height=\"10\" style=\"stroke:#A80036;stroke-width:1.5;\" width=\"15\" x=\"272\" y=\"138.9531\"/><rect fill=\"#FEFECE\" height=\"2\" style=\"stroke:#A80036;stroke-width:1.5;\" width=\"4\" x=\"270\" y=\"140.9531\"/><rect fill=\"#FEFECE\" height=\"2\" style=\"stroke:#A80036;stroke-width:1.5;\" width=\"4\" x=\"270\" y=\"144.9531\"/><text fill=\"#000000\" font-family=\"sans-serif\" font-size=\"14\" lengthAdjust=\"spacing\" textLength=\"30\" x=\"183\" y=\"166.9482\">Last</text><text fill=\"#000000\" font-family=\"sans-serif\" font-size=\"14\" lengthAdjust=\"spacing\" textLength=\"84\" x=\"183\" y=\"183.2451\">component</text><!--MD5=[a93a38e69a2db14e32304a07377154af]\n",
       "link First component to Comp2--><!--MD5=[71c4e991d46473b3c9b071cd2aefc5dd]\n",
       "link First component to Comp3--><!--MD5=[a5b5cda61af7c63958dc6d1d7b2a4723]\n",
       "link Comp3 to Comp4--><!--MD5=[746b0cc539893b0a1a125b617b178492]\n",
       "@startuml\n",
       "Title コンポーネント図\n",
       "[First component]\n",
       "[Another component] as Comp2  \n",
       "component Comp3\n",
       "component [Last\\ncomponent] as Comp4\n",
       "@enduml\n",
       "\n",
       "PlantUML version 1.2021.5beta3(Unknown compile time)\n",
       "(GPL source distribution)\n",
       "Java Runtime: Java(TM) SE Runtime Environment\n",
       "JVM: Java HotSpot(TM) 64-Bit Server VM\n",
       "Default Encoding: UTF-8\n",
       "Language: en\n",
       "Country: US\n",
       "--></g></svg>"
      ],
      "text/plain": [
       "<IPython.core.display.SVG object>"
      ]
     },
     "execution_count": 6,
     "metadata": {},
     "output_type": "execute_result"
    }
   ],
   "source": [
    "%%plantuml\n",
    "@startuml\n",
    "Title コンポーネント図\n",
    "[First component]\n",
    "[Another component] as Comp2  \n",
    "component Comp3\n",
    "component [Last\\ncomponent] as Comp4\n",
    "\n",
    "@enduml\n"
   ]
  },
  {
   "cell_type": "code",
   "execution_count": 7,
   "id": "positive-clearing",
   "metadata": {},
   "outputs": [
    {
     "data": {
      "image/svg+xml": [
       "<svg xmlns=\"http://www.w3.org/2000/svg\" xmlns:xlink=\"http://www.w3.org/1999/xlink\" contentScriptType=\"application/ecmascript\" contentStyleType=\"text/css\" height=\"262px\" preserveAspectRatio=\"none\" style=\"width:267px;height:262px;\" version=\"1.1\" viewBox=\"0 0 267 262\" width=\"267px\" zoomAndPan=\"magnify\"><defs><filter height=\"300%\" id=\"f1nwbmw5j3beit\" width=\"300%\" x=\"-1\" y=\"-1\"><feGaussianBlur result=\"blurOut\" stdDeviation=\"2.0\"/><feColorMatrix in=\"blurOut\" result=\"blurOut2\" type=\"matrix\" values=\"0 0 0 0 0 0 0 0 0 0 0 0 0 0 0 0 0 0 .4 0\"/><feOffset dx=\"4.0\" dy=\"4.0\" in=\"blurOut2\" result=\"blurOut3\"/><feBlend in=\"SourceGraphic\" in2=\"blurOut3\" mode=\"normal\"/></filter></defs><g><text fill=\"#000000\" font-family=\"sans-serif\" font-size=\"18\" lengthAdjust=\"spacing\" textLength=\"90\" x=\"82.25\" y=\"16.708\">状態遷移図</text><ellipse cx=\"78.5\" cy=\"36.9531\" fill=\"#000000\" filter=\"url(#f1nwbmw5j3beit)\" rx=\"10\" ry=\"10\" style=\"stroke:none;stroke-width:1.0;\"/><g id=\"State1\"><rect fill=\"#FEFECE\" filter=\"url(#f1nwbmw5j3beit)\" height=\"64.2344\" rx=\"12.5\" ry=\"12.5\" style=\"stroke:#A80036;stroke-width:1.5;\" width=\"143\" x=\"7\" y=\"106.9531\"/><line style=\"stroke:#A80036;stroke-width:1.5;\" x1=\"7\" x2=\"150\" y1=\"133.25\" y2=\"133.25\"/><text fill=\"#000000\" font-family=\"sans-serif\" font-size=\"14\" lengthAdjust=\"spacing\" textLength=\"49\" x=\"54\" y=\"124.9482\">State1</text><text fill=\"#000000\" font-family=\"sans-serif\" font-size=\"12\" lengthAdjust=\"spacing\" textLength=\"84\" x=\"12\" y=\"149.3887\">this is a string</text><text fill=\"#000000\" font-family=\"sans-serif\" font-size=\"12\" lengthAdjust=\"spacing\" textLength=\"123\" x=\"12\" y=\"163.3574\">this is another string</text></g><ellipse cx=\"148.5\" cy=\"240.9531\" filter=\"url(#f1nwbmw5j3beit)\" rx=\"10\" ry=\"10\" style=\"stroke:#000000;stroke-width:1.0;fill:none;\"/><ellipse cx=\"149\" cy=\"241.4531\" fill=\"#000000\" rx=\"6\" ry=\"6\" style=\"stroke:none;stroke-width:1.0;\"/><g id=\"State2\"><rect fill=\"#FEFECE\" filter=\"url(#f1nwbmw5j3beit)\" height=\"50\" rx=\"12.5\" ry=\"12.5\" style=\"stroke:#A80036;stroke-width:1.5;\" width=\"68\" x=\"185.5\" y=\"113.9531\"/><line style=\"stroke:#A80036;stroke-width:1.5;\" x1=\"185.5\" x2=\"253.5\" y1=\"140.25\" y2=\"140.25\"/><text fill=\"#000000\" font-family=\"sans-serif\" font-size=\"14\" lengthAdjust=\"spacing\" textLength=\"48\" x=\"195.5\" y=\"131.9482\">State2</text></g><!--MD5=[60533a5dc91355c93bf187ba4549d745]\n",
       "link *start to State1--><path d=\"M78.5,47.1821 C78.5,59.4681 78.5,81.9181 78.5,101.4161 \" fill=\"none\" id=\"*start-to-State1\" style=\"stroke:#A80036;stroke-width:1.0;\"/><polygon fill=\"#A80036\" points=\"78.5,106.8261,82.5,97.8261,78.5,101.8261,74.5,97.8261,78.5,106.8261\" style=\"stroke:#A80036;stroke-width:1.0;\"/><!--MD5=[ca1046a354e184ac9d197a073cc82934]\n",
       "link State1 to *end--><path d=\"M100.2647,171.0456 C113.678,190.2078 130.133,213.7151 139.944,227.7296 \" fill=\"none\" id=\"State1-to-*end\" style=\"stroke:#A80036;stroke-width:1.0;\"/><polygon fill=\"#A80036\" points=\"143.002,232.0984,141.1173,222.4316,140.1345,228.0024,134.5637,227.0196,143.002,232.0984\" style=\"stroke:#A80036;stroke-width:1.0;\"/><!--MD5=[dc702cd49c4e27e6abb2620dc4bb28d8]\n",
       "link State1 to State2--><path d=\"M150.102,138.9531 C160.105,138.9531 170.108,138.9531 180.112,138.9531 \" fill=\"none\" id=\"State1-to-State2\" style=\"stroke:#A80036;stroke-width:1.0;\"/><polygon fill=\"#A80036\" points=\"185.343,138.9531,176.343,134.9531,180.343,138.9531,176.343,142.9531,185.343,138.9531\" style=\"stroke:#A80036;stroke-width:1.0;\"/><!--MD5=[37ebb224bae70bf8df0e6bab9d19d55b]\n",
       "link State2 to *end--><path d=\"M202.313,164.1603 C188.031,184.2759 168.303,212.0612 157.131,227.7973 \" fill=\"none\" id=\"State2-to-*end\" style=\"stroke:#A80036;stroke-width:1.0;\"/><polygon fill=\"#A80036\" points=\"153.953,232.2723,162.4247,227.2493,156.8475,228.1953,155.9015,222.6181,153.953,232.2723\" style=\"stroke:#A80036;stroke-width:1.0;\"/><!--MD5=[07be6f658958f6f2c33b9edc06c05285]\n",
       "@startuml\n",
       "Title 状態遷移図\n",
       "[*] - -> State1\n",
       "State1 - -> [*]\n",
       "State1 : this is a string\n",
       "State1 : this is another string\n",
       "\n",
       "State1 -> State2\n",
       "State2 - -> [*]\n",
       "@enduml\n",
       "\n",
       "PlantUML version 1.2021.5beta3(Unknown compile time)\n",
       "(GPL source distribution)\n",
       "Java Runtime: Java(TM) SE Runtime Environment\n",
       "JVM: Java HotSpot(TM) 64-Bit Server VM\n",
       "Default Encoding: UTF-8\n",
       "Language: en\n",
       "Country: US\n",
       "--></g></svg>"
      ],
      "text/plain": [
       "<IPython.core.display.SVG object>"
      ]
     },
     "execution_count": 7,
     "metadata": {},
     "output_type": "execute_result"
    }
   ],
   "source": [
    "%%plantuml\n",
    "@startuml\n",
    "Title 状態遷移図\n",
    "[*] --> State1\n",
    "State1 --> [*]\n",
    "State1 : this is a string\n",
    "State1 : this is another string\n",
    "\n",
    "State1 -> State2\n",
    "State2 --> [*]\n",
    "\n",
    "@enduml"
   ]
  },
  {
   "cell_type": "code",
   "execution_count": 8,
   "id": "textile-patient",
   "metadata": {},
   "outputs": [
    {
     "data": {
      "image/svg+xml": [
       "<svg xmlns=\"http://www.w3.org/2000/svg\" xmlns:xlink=\"http://www.w3.org/1999/xlink\" contentScriptType=\"application/ecmascript\" contentStyleType=\"text/css\" height=\"186px\" preserveAspectRatio=\"none\" style=\"width:443px;height:186px;\" version=\"1.1\" viewBox=\"0 0 443 186\" width=\"443px\" zoomAndPan=\"magnify\"><defs><filter height=\"300%\" id=\"f9oopkfrbsx59\" width=\"300%\" x=\"-1\" y=\"-1\"><feGaussianBlur result=\"blurOut\" stdDeviation=\"2.0\"/><feColorMatrix in=\"blurOut\" result=\"blurOut2\" type=\"matrix\" values=\"0 0 0 0 0 0 0 0 0 0 0 0 0 0 0 0 0 0 .4 0\"/><feOffset dx=\"4.0\" dy=\"4.0\" in=\"blurOut2\" result=\"blurOut3\"/><feBlend in=\"SourceGraphic\" in2=\"blurOut3\" mode=\"normal\"/></filter></defs><g><text fill=\"#000000\" font-family=\"sans-serif\" font-size=\"18\" lengthAdjust=\"spacing\" textLength=\"126\" x=\"152\" y=\"16.708\">オブジェクト図</text><rect fill=\"#FEFECE\" filter=\"url(#f9oopkfrbsx59)\" height=\"33.9688\" style=\"stroke:#A80036;stroke-width:1.5;\" width=\"69\" x=\"7.5\" y=\"27.9531\"/><text fill=\"#000000\" font-family=\"sans-serif\" font-size=\"12\" lengthAdjust=\"spacing\" textLength=\"55\" x=\"14.5\" y=\"41.0918\">Object01</text><line style=\"stroke:#A80036;stroke-width:1.5;\" x1=\"8.5\" x2=\"75.5\" y1=\"45.9219\" y2=\"45.9219\"/><rect fill=\"#FEFECE\" filter=\"url(#f9oopkfrbsx59)\" height=\"33.9688\" style=\"stroke:#A80036;stroke-width:1.5;\" width=\"70\" x=\"7\" y=\"138.9531\"/><text fill=\"#000000\" font-family=\"sans-serif\" font-size=\"12\" lengthAdjust=\"spacing\" textLength=\"56\" x=\"14\" y=\"152.0918\">Object02</text><line style=\"stroke:#A80036;stroke-width:1.5;\" x1=\"8\" x2=\"76\" y1=\"156.9219\" y2=\"156.9219\"/><rect fill=\"#FEFECE\" filter=\"url(#f9oopkfrbsx59)\" height=\"33.9688\" style=\"stroke:#A80036;stroke-width:1.5;\" width=\"70\" x=\"112\" y=\"27.9531\"/><text fill=\"#000000\" font-family=\"sans-serif\" font-size=\"12\" lengthAdjust=\"spacing\" textLength=\"56\" x=\"119\" y=\"41.0918\">Object03</text><line style=\"stroke:#A80036;stroke-width:1.5;\" x1=\"113\" x2=\"181\" y1=\"45.9219\" y2=\"45.9219\"/><rect fill=\"#FEFECE\" filter=\"url(#f9oopkfrbsx59)\" height=\"33.9688\" style=\"stroke:#A80036;stroke-width:1.5;\" width=\"70\" x=\"112\" y=\"138.9531\"/><text fill=\"#000000\" font-family=\"sans-serif\" font-size=\"12\" lengthAdjust=\"spacing\" textLength=\"56\" x=\"119\" y=\"152.0918\">Object04</text><line style=\"stroke:#A80036;stroke-width:1.5;\" x1=\"113\" x2=\"181\" y1=\"156.9219\" y2=\"156.9219\"/><rect fill=\"#FEFECE\" filter=\"url(#f9oopkfrbsx59)\" height=\"33.9688\" style=\"stroke:#A80036;stroke-width:1.5;\" width=\"70\" x=\"217\" y=\"27.9531\"/><text fill=\"#000000\" font-family=\"sans-serif\" font-size=\"12\" lengthAdjust=\"spacing\" textLength=\"56\" x=\"224\" y=\"41.0918\">Object05</text><line style=\"stroke:#A80036;stroke-width:1.5;\" x1=\"218\" x2=\"286\" y1=\"45.9219\" y2=\"45.9219\"/><rect fill=\"#FEFECE\" filter=\"url(#f9oopkfrbsx59)\" height=\"33.9688\" style=\"stroke:#A80036;stroke-width:1.5;\" width=\"70\" x=\"217\" y=\"138.9531\"/><text fill=\"#000000\" font-family=\"sans-serif\" font-size=\"12\" lengthAdjust=\"spacing\" textLength=\"56\" x=\"224\" y=\"152.0918\">Object06</text><line style=\"stroke:#A80036;stroke-width:1.5;\" x1=\"218\" x2=\"286\" y1=\"156.9219\" y2=\"156.9219\"/><rect fill=\"#FEFECE\" filter=\"url(#f9oopkfrbsx59)\" height=\"33.9688\" style=\"stroke:#A80036;stroke-width:1.5;\" width=\"70\" x=\"322\" y=\"27.9531\"/><text fill=\"#000000\" font-family=\"sans-serif\" font-size=\"12\" lengthAdjust=\"spacing\" textLength=\"56\" x=\"329\" y=\"41.0918\">Object07</text><line style=\"stroke:#A80036;stroke-width:1.5;\" x1=\"323\" x2=\"391\" y1=\"45.9219\" y2=\"45.9219\"/><rect fill=\"#FEFECE\" filter=\"url(#f9oopkfrbsx59)\" height=\"33.9688\" style=\"stroke:#A80036;stroke-width:1.5;\" width=\"70\" x=\"322\" y=\"138.9531\"/><text fill=\"#000000\" font-family=\"sans-serif\" font-size=\"12\" lengthAdjust=\"spacing\" textLength=\"56\" x=\"329\" y=\"152.0918\">Object08</text><line style=\"stroke:#A80036;stroke-width:1.5;\" x1=\"323\" x2=\"391\" y1=\"156.9219\" y2=\"156.9219\"/><!--MD5=[507381b32e0a49e7abc7210229a8ee60]\n",
       "reverse link Object01 to Object02--><path codeLine=\"11\" d=\"M42,82.3003 C42,101.4472 42,123.9688 42,138.8038 \" fill=\"none\" id=\"Object01-backto-Object02\" style=\"stroke:#A80036;stroke-width:1.0;\"/><polygon fill=\"none\" points=\"35.0001,82.0365,42,62.0361,49.0001,82.0364,35.0001,82.0365\" style=\"stroke:#A80036;stroke-width:1.0;\"/><!--MD5=[d21c20b16b3ff22abbc2c8af84931b60]\n",
       "reverse link Object03 to Object04--><path codeLine=\"12\" d=\"M147,75.3 C147,95.6967 147,122.1144 147,138.8038 \" fill=\"none\" id=\"Object03-backto-Object04\" style=\"stroke:#A80036;stroke-width:1.0;\"/><polygon fill=\"#A80036\" points=\"147,62.0361,143,68.0361,147,74.0361,151,68.0361,147,62.0361\" style=\"stroke:#A80036;stroke-width:1.0;\"/><!--MD5=[ade907096602ef8d7fe19339b46bff0e]\n",
       "reverse link Object05 to Object06--><path codeLine=\"13\" d=\"M252,75.3 C252,95.6967 252,122.1144 252,138.8038 \" fill=\"none\" id=\"Object05-backto-Object06\" style=\"stroke:#A80036;stroke-width:1.0;\"/><polygon fill=\"#FFFFFF\" points=\"252,62.0361,248,68.0361,252,74.0361,256,68.0361,252,62.0361\" style=\"stroke:#A80036;stroke-width:1.0;\"/><text fill=\"#000000\" font-family=\"sans-serif\" font-size=\"13\" lengthAdjust=\"spacing\" textLength=\"8\" x=\"242.725\" y=\"128.0399\">4</text><!--MD5=[17488501a7bed181c851ca0c615fb4f2]\n",
       "link Object07 to Object08--><path codeLine=\"14\" d=\"M357,62.0361 C357,82.6447 357,118.1638 357,138.8038 \" fill=\"none\" id=\"Object07-Object08\" style=\"stroke:#A80036;stroke-width:1.0;stroke-dasharray:7.0,7.0;\"/><text fill=\"#000000\" font-family=\"sans-serif\" font-size=\"13\" lengthAdjust=\"spacing\" textLength=\"77\" x=\"358\" y=\"105.02\">some labels</text><!--MD5=[6d98ecd12a9cf7232e032f3803f46002]\n",
       "@startuml\n",
       "Title オブジェクト図\n",
       "object Object01\n",
       "object Object02\n",
       "object Object03\n",
       "object Object04\n",
       "object Object05\n",
       "object Object06\n",
       "object Object07\n",
       "object Object08\n",
       "\n",
       "Object01 <|- - Object02\n",
       "Object03 *- - Object04\n",
       "Object05 o- - \"4\" Object06\n",
       "Object07 .. Object08 : some labels\n",
       "@enduml\n",
       "\n",
       "PlantUML version 1.2021.5beta3(Unknown compile time)\n",
       "(GPL source distribution)\n",
       "Java Runtime: Java(TM) SE Runtime Environment\n",
       "JVM: Java HotSpot(TM) 64-Bit Server VM\n",
       "Default Encoding: UTF-8\n",
       "Language: en\n",
       "Country: US\n",
       "--></g></svg>"
      ],
      "text/plain": [
       "<IPython.core.display.SVG object>"
      ]
     },
     "execution_count": 8,
     "metadata": {},
     "output_type": "execute_result"
    }
   ],
   "source": [
    "%%plantuml\n",
    "@startuml\n",
    "Title オブジェクト図\n",
    "object Object01\n",
    "object Object02\n",
    "object Object03\n",
    "object Object04\n",
    "object Object05\n",
    "object Object06\n",
    "object Object07\n",
    "object Object08\n",
    "\n",
    "Object01 <|-- Object02\n",
    "Object03 *-- Object04\n",
    "Object05 o-- \"4\" Object06\n",
    "Object07 .. Object08 : some labels\n",
    "@enduml"
   ]
  },
  {
   "cell_type": "code",
   "execution_count": 11,
   "id": "wired-chicken",
   "metadata": {},
   "outputs": [
    {
     "data": {
      "image/svg+xml": [
       "<svg xmlns=\"http://www.w3.org/2000/svg\" xmlns:xlink=\"http://www.w3.org/1999/xlink\" contentScriptType=\"application/ecmascript\" contentStyleType=\"text/css\" height=\"276px\" preserveAspectRatio=\"none\" style=\"width:576px;height:276px;\" version=\"1.1\" viewBox=\"0 0 576 276\" width=\"576px\" zoomAndPan=\"magnify\"><defs><filter height=\"300%\" id=\"fw7z1ie5lgglb\" width=\"300%\" x=\"-1\" y=\"-1\"><feGaussianBlur result=\"blurOut\" stdDeviation=\"2.0\"/><feColorMatrix in=\"blurOut\" result=\"blurOut2\" type=\"matrix\" values=\"0 0 0 0 0 0 0 0 0 0 0 0 0 0 0 0 0 0 .4 0\"/><feOffset dx=\"4.0\" dy=\"4.0\" in=\"blurOut2\" result=\"blurOut3\"/><feBlend in=\"SourceGraphic\" in2=\"blurOut3\" mode=\"normal\"/></filter></defs><g><text fill=\"#000000\" font-family=\"sans-serif\" font-size=\"18\" lengthAdjust=\"spacing\" textLength=\"54\" x=\"254.5868\" y=\"16.708\">ヒゲ部</text><polygon fill=\"#FFFFFF\" filter=\"url(#fw7z1ie5lgglb)\" points=\"424.5726,43.745,423.7453,46.2143,420.5879,48.0932,416.965,49.9651,413.9743,52.1392,408.3316,53.3788,403.1766,54.7109,397.1262,55.5703,390.46,55.9821,384.6706,56.4043,376.8184,55.7402,371.8076,55.6664,365.3271,54.6219,359.0917,53.1805,354.7226,51.895,350.3327,50.0941,347.0484,48.1808,344.3295,45.9836,342.7457,43.7337,341.8533,41.3163,342.2688,39.0005,343.7766,36.771,346.732,34.8209,349.8962,32.7874,353.8525,30.9535,360.365,30.0204,364.3595,28.2795,371.4391,27.7826,376.8403,26.9251,384.4538,27.1457,390.4604,27.1594,395.8839,27.3787,402.7595,28.5624,408.1295,29.6988,412.8126,31.095,416.9468,32.8058,420.8056,34.9215,422.9707,36.9236,425.4367,39.4844,425.0004,41.4335\" style=\"stroke:#FFFFFF;stroke-width:1.5;\"/><text fill=\"#000000\" font-family=\"sans-serif\" font-size=\"14\" lengthAdjust=\"spacing\" textLength=\"42\" x=\"359.982\" y=\"45.2737\">けじめ</text><polygon fill=\"#FFFFFF\" filter=\"url(#fw7z1ie5lgglb)\" points=\"306.5726,43.745,305.7453,46.2143,302.5879,48.0932,298.965,49.9651,295.9743,52.1392,290.3316,53.3788,285.1766,54.7109,279.1262,55.5703,272.46,55.9821,266.6706,56.4043,258.8184,55.7402,253.8076,55.6664,247.3271,54.6219,241.0917,53.1805,236.7226,51.895,232.3327,50.0941,229.0484,48.1808,226.3295,45.9836,224.7457,43.7337,223.8533,41.3163,224.2688,39.0005,225.7766,36.771,228.732,34.8209,231.8962,32.7874,235.8525,30.9535,242.365,30.0204,246.3595,28.2795,253.4391,27.7826,258.8403,26.9251,266.4538,27.1457,272.4604,27.1594,277.8839,27.3787,284.7595,28.5624,290.1295,29.6988,294.8126,31.095,298.9468,32.8058,302.8056,34.9215,304.9707,36.9236,307.4367,39.4844,307.0004,41.4335\" style=\"stroke:#FFFFFF;stroke-width:1.5;\"/><text fill=\"#000000\" font-family=\"sans-serif\" font-size=\"14\" lengthAdjust=\"spacing\" textLength=\"42\" x=\"241.982\" y=\"45.2737\">けじめ</text><polygon fill=\"#FFFFFF\" filter=\"url(#fw7z1ie5lgglb)\" points=\"188.5726,43.745,187.7453,46.2143,184.5879,48.0932,180.965,49.9651,177.9743,52.1392,172.3316,53.3788,167.1766,54.7109,161.1262,55.5703,154.46,55.9821,148.6706,56.4043,140.8184,55.7402,135.8076,55.6664,129.3271,54.6219,123.0917,53.1805,118.7226,51.895,114.3327,50.0941,111.0484,48.1808,108.3295,45.9836,106.7457,43.7337,105.8533,41.3163,106.2688,39.0005,107.7766,36.771,110.732,34.8209,113.8962,32.7874,117.8525,30.9535,124.365,30.0204,128.3595,28.2795,135.4391,27.7826,140.8403,26.9251,148.4538,27.1457,154.4604,27.1594,159.8839,27.3787,166.7595,28.5624,172.1295,29.6988,176.8126,31.095,180.9468,32.8058,184.8056,34.9215,186.9707,36.9236,189.4367,39.4844,189.0004,41.4335\" style=\"stroke:#FFFFFF;stroke-width:1.5;\"/><text fill=\"#000000\" font-family=\"sans-serif\" font-size=\"14\" lengthAdjust=\"spacing\" textLength=\"42\" x=\"123.982\" y=\"45.2737\">けじめ</text><polygon fill=\"#FFFFFF\" filter=\"url(#fw7z1ie5lgglb)\" points=\"157.8716,250.8413,156.4718,253.6189,151.1293,255.7324,144.9992,257.838,139.9386,260.2836,130.3909,261.678,121.6684,263.1763,111.4307,264.143,100.1511,264.6063,90.3552,265.0811,77.0687,264.3341,68.5902,264.2511,57.6248,263.0762,47.0741,261.4549,39.6814,260.0089,32.2534,257.9831,26.6961,255.831,22.0956,253.3595,19.4158,250.8287,17.9057,248.1095,18.6088,245.5046,21.1601,242.9967,26.1607,240.8032,31.5148,238.5158,38.2091,236.4529,49.2286,235.4033,55.9876,233.445,67.9666,232.8862,77.1057,231.9216,89.9883,232.1698,100.1517,232.1852,109.3286,232.4318,120.9626,233.7633,130.0489,235.0416,137.9731,236.6121,144.9683,238.5365,151.4977,240.9163,155.1611,243.1683,159.3337,246.0488,158.5955,248.2413\" style=\"stroke:#FFFFFF;stroke-width:1.5;\"/><text fill=\"#000000\" font-family=\"sans-serif\" font-size=\"14\" lengthAdjust=\"spacing\" textLength=\"93\" x=\"39.5634\" y=\"252.1134\">3年間の思い出</text><polygon fill=\"#FFFFFF\" filter=\"url(#fw7z1ie5lgglb)\" points=\"170.7862,138.8506,169.1253,142.0708,162.7858,144.521,155.5118,146.962,149.5069,149.7972,138.1774,151.4138,127.8272,153.1508,115.6791,154.2716,102.2946,154.8086,90.6707,155.3591,74.9048,154.4931,64.8442,154.3968,51.8325,153.0347,39.313,151.1552,30.5407,149.4788,21.7266,147.1302,15.1323,144.6353,9.6733,141.77,6.4934,138.8359,4.7015,135.6835,5.5358,132.6636,8.5631,129.7562,14.497,127.2132,20.8502,124.5613,28.7937,122.1699,41.8695,120.953,49.8898,118.6827,64.1042,118.0348,74.9488,116.9165,90.2354,117.2043,102.2954,117.2221,113.1848,117.5081,126.9897,119.0517,137.7717,120.5336,147.1745,122.3544,155.4751,124.5854,163.2229,127.3443,167.57,129.9551,172.5213,133.2946,171.6453,135.8364\" style=\"stroke:#FFFFFF;stroke-width:1.5;\"/><text fill=\"#000000\" font-family=\"sans-serif\" font-size=\"14\" lengthAdjust=\"spacing\" textLength=\"126\" x=\"25.5914\" y=\"139.0125\">セクシーコマンドー</text><polygon fill=\"#FFFFFF\" filter=\"url(#fw7z1ie5lgglb)\" points=\"296.508,138.1673,295.883,140.6253,293.4975,142.4955,290.7603,144.3587,288.5007,146.5228,284.2375,147.7567,280.3428,149.0826,275.7716,149.9381,270.7351,150.348,266.361,150.7682,260.4285,150.1072,256.6427,150.0337,251.7465,148.994,247.0355,147.5593,243.7345,146.2797,240.4178,144.4871,237.9364,142.5827,235.8822,140.3957,234.6857,138.1561,234.0114,135.7499,234.3253,133.4449,235.4645,131.2256,237.6974,129.2845,240.088,127.2604,243.0771,125.435,247.9975,124.5062,251.0155,122.7733,256.3643,122.2788,260.445,121.4252,266.1972,121.6448,270.7354,121.6585,274.833,121.8767,280.0277,123.055,284.0849,124.1861,287.6231,125.5758,290.7465,127.2788,293.662,129.3847,295.2978,131.3775,297.1609,133.9265,296.8313,135.8666\" style=\"stroke:#FFFFFF;stroke-width:1.5;\"/><text fill=\"#000000\" font-family=\"sans-serif\" font-size=\"14\" lengthAdjust=\"spacing\" textLength=\"28\" x=\"251.7843\" y=\"138.8234\">ヒゲ</text><polygon fill=\"#FFFFFF\" filter=\"url(#fw7z1ie5lgglb)\" points=\"542.5726,43.745,541.7453,46.2143,538.5879,48.0932,534.965,49.9651,531.9743,52.1392,526.3316,53.3788,521.1766,54.7109,515.1262,55.5703,508.46,55.9821,502.6706,56.4043,494.8184,55.7402,489.8076,55.6664,483.3271,54.6219,477.0917,53.1805,472.7226,51.895,468.3327,50.0941,465.0484,48.1808,462.3295,45.9836,460.7457,43.7337,459.8533,41.3163,460.2688,39.0005,461.7766,36.771,464.732,34.8209,467.8962,32.7874,471.8525,30.9535,478.365,30.0204,482.3595,28.2795,489.4391,27.7826,494.8403,26.9251,502.4538,27.1457,508.4604,27.1594,513.8839,27.3787,520.7595,28.5624,526.1295,29.6988,530.8126,31.095,534.9468,32.8058,538.8056,34.9215,540.9707,36.9236,543.4367,39.4844,543.0004,41.4335\" style=\"stroke:#FFFFFF;stroke-width:1.5;\"/><text fill=\"#000000\" font-family=\"sans-serif\" font-size=\"14\" lengthAdjust=\"spacing\" textLength=\"42\" x=\"477.982\" y=\"45.2737\">学ラン</text><polygon fill=\"#FFFFFF\" filter=\"url(#fw7z1ie5lgglb)\" points=\"563.0613,138.0054,561.8209,140.513,557.0866,142.4211,551.6544,144.322,547.17,146.5298,538.7092,147.7887,530.9798,149.1414,521.9077,150.0142,511.9122,150.4324,503.2315,150.861,491.4577,150.1867,483.9445,150.1117,474.2274,149.051,464.878,147.5873,458.3268,146.2818,451.7446,144.453,446.82,142.5101,442.7432,140.2788,440.3685,137.9939,439.0303,135.5391,439.6534,133.1874,441.9141,130.9233,446.3455,128.9429,451.09,126.8779,457.0222,125.0156,466.7871,124.068,472.7766,122.3,483.3918,121.7955,491.4905,120.9246,502.9064,121.1487,511.9128,121.1626,520.0449,121.3853,530.3543,122.5874,538.4062,123.7414,545.4282,125.1592,551.627,126.8966,557.4131,129.0451,560.6594,131.0782,564.357,133.6787,563.7028,135.6581\" style=\"stroke:#FFFFFF;stroke-width:1.5;\"/><text fill=\"#000000\" font-family=\"sans-serif\" font-size=\"14\" lengthAdjust=\"spacing\" textLength=\"70\" x=\"464.0868\" y=\"139.518\">セクシーさ</text><!--MD5=[dc8a7b0d16cbc3571aaf68844eeeb481]\n",
       "reverse link セクシーコマンドー to 3年間の思い出--><path d=\"M89,160.4351 L89.2802,160.4351 L88.4476,170.614 L89.2577,180.7929 L89.5329,190.9717 L88.0488,201.1506 L88.8964,211.3295 L88.4313,221.5084 L89,231.6872 \" fill=\"none\" style=\"stroke:#000000;stroke-width:1.0;\"/><polygon fill=\"#000000\" points=\"89,155.2001,89.064,155.2286,88.0738,156.944,87.4589,158.8263,86.7217,160.6542,85.5827,162.3035,85,164.2001,84.9817,164.1818,85.6995,163.2996,86.5096,162.5097,87.3839,161.7841,88.037,160.8372,89,160.2001,89.1305,160.3306,89.6514,160.8516,90.5534,161.7535,91.5018,162.7019,92.1798,163.3799,93,164.2001,93.0208,164.2094,92.1903,162.3958,91.4544,160.6243,90.6728,158.8325,89.9784,157.0794,89,155.2001\" style=\"stroke:#000000;stroke-width:1.0;\"/><text fill=\"#000000\" font-family=\"sans-serif\" font-size=\"13\" lengthAdjust=\"spacing\" textLength=\"320\" x=\"90\" y=\"198.02\">高校生になっても3-Bの事忘れないでね！という気持ち</text><!--MD5=[dc048289a170bed671c2ec1035c8c0f6]\n",
       "link セクシーコマンドー to ヒゲ--><path d=\"M172.058,135.9531 L172.058,136.2334 L181.5697,135.4007 L191.0813,136.2108 L200.593,136.486 L210.1047,135.0019 L219.6163,135.8495 L229.128,135.9531 \" fill=\"none\" style=\"stroke:#000000;stroke-width:1.0;\"/><polygon fill=\"#000000\" points=\"234.17,135.9531,234.1985,136.0171,232.3139,135.0269,230.5962,134.412,228.8241,133.6749,226.8734,132.5358,225.17,131.9531,225.1517,131.9348,225.8695,132.6526,226.6796,133.4627,227.5539,134.3371,228.207,134.9902,229.17,135.9531,229.3005,136.0836,228.2214,136.6046,227.5234,137.5065,226.8718,138.4549,225.9498,139.1329,225.17,139.9531,225.1792,139.9739,226.9657,139.1434,228.7942,138.4075,230.6024,137.626,232.4493,136.9315,234.17,135.9531\" style=\"stroke:#000000;stroke-width:1.0;\"/><text fill=\"#000000\" font-family=\"sans-serif\" font-size=\"13\" lengthAdjust=\"spacing\" textLength=\"26\" x=\"190.25\" y=\"129.02\">省略</text><!--MD5=[27233dea093dcf9f5e1973a3b12600a1]\n",
       "reverse link けじめ1 to ヒゲ--><path d=\"M363.897,58.2121 L364.0699,58.4327 L355.2953,64.253 L347.5342,71.3662 L339.4431,78.0583 L330.2666,83.3659 L322.5286,90.5086 L313.9808,96.6182 L305.7552,103.1389 L297.7537,109.9454 L288.9802,115.767 L281.288,122.9681 \" fill=\"none\" style=\"stroke:#000000;stroke-width:1.0;\"/><polygon fill=\"#000000\" points=\"368.086,54.9281,368.1031,54.9961,366.1421,55.2752,364.2815,55.9527,362.3881,56.5004,360.3874,56.6217,358.5353,57.3333,358.5322,57.3076,359.6414,57.3281,360.7663,57.4783,361.9021,57.7186,363.0003,57.6484,364.1512,58.0131,364.3344,58.0353,363.8066,59.1111,363.8138,60.2515,363.8862,61.3999,363.5789,62.5024,363.4713,63.629,363.4914,63.6396,364.3849,61.8838,365.3698,60.1765,366.3106,58.4458,367.3355,56.7598,368.086,54.9281\" style=\"stroke:#000000;stroke-width:1.0;\"/><!--MD5=[8fc19817175ae8a93b5f9875b9bd3a9b]\n",
       "reverse link けじめ2 to ヒゲ--><path d=\"M266,61.3331 L266.2802,61.3331 L265.4476,71.319 L266.2577,81.3048 L266.5329,91.2906 L265.0488,101.2765 L265.8964,111.2623 L266,121.2481 \" fill=\"none\" style=\"stroke:#000000;stroke-width:1.0;\"/><polygon fill=\"#000000\" points=\"266,56.1021,266.064,56.1306,265.0738,57.846,264.4589,59.7283,263.7217,61.5562,262.5827,63.2055,262,65.1021,261.9817,65.0838,262.6995,64.2016,263.5096,63.4117,264.3839,62.6861,265.037,61.7392,266,61.1021,266.1305,61.2326,266.6514,61.7536,267.5534,62.6555,268.5018,63.6039,269.1798,64.2819,270,65.1021,270.0208,65.1114,269.1903,63.2978,268.4544,61.5263,267.6728,59.7345,266.9784,57.9814,266,56.1021\" style=\"stroke:#000000;stroke-width:1.0;\"/><!--MD5=[e4c436dfc6b8bc18a06292b7e370f41e]\n",
       "reverse link けじめ3 to ヒゲ--><path d=\"M168.103,58.2121 L168.2759,58.4327 L176.0231,64.253 L184.7838,71.3662 L193.2145,78.0583 L200.5598,83.3659 L209.3436,90.5086 L217.3176,96.6182 L225.6138,103.1389 L234.1341,109.9454 L241.8824,115.767 L250.712,122.9681 \" fill=\"none\" style=\"stroke:#000000;stroke-width:1.0;\"/><polygon fill=\"#000000\" points=\"163.914,54.9281,163.9759,54.961,164.7149,56.6036,165.8168,58.4387,166.8005,60.2111,167.3956,61.7774,168.5287,63.629,168.5029,63.6259,168.2516,62.4887,168.1298,61.3673,168.0982,60.2567,167.756,59.1086,167.8488,58.0131,167.871,58.1963,168.9467,57.6686,170.0872,57.6757,171.2356,57.7482,172.3381,57.4409,173.4647,57.3333,173.4702,57.3553,171.5519,56.8419,169.6589,56.4289,167.7537,55.9675,165.8718,55.5985,163.914,54.9281\" style=\"stroke:#000000;stroke-width:1.0;\"/><!--MD5=[27062a4d76e23074a5c095141eef08c7]\n",
       "link 学ラン to セクシーさ--><path d=\"M502,56.1021 L502.2802,56.1021 L501.4476,66.0355 L502.2577,75.9688 L502.5329,85.9021 L501.0488,95.8355 L501.8964,105.7688 L502,115.7021 \" fill=\"none\" style=\"stroke:#000000;stroke-width:1.0;\"/><polygon fill=\"#000000\" points=\"502,120.9451,502.064,120.9736,502.6738,119.089,503.6589,117.3713,504.5217,115.5992,504.9827,113.6485,506,111.9451,505.9817,111.9268,505.0995,112.6446,504.3096,113.4547,503.5839,114.3291,502.637,114.9822,502,115.9451,502.1305,116.0756,501.0514,114.9966,500.3534,114.2985,499.7018,113.6469,498.7798,112.7249,498,111.9451,498.0208,111.9544,498.7903,113.7408,499.6544,115.5693,500.4728,117.3775,501.3784,119.2244,502,120.9451\" style=\"stroke:#000000;stroke-width:1.0;\"/><!--MD5=[482a464ddd1f4daaa97b435d5df11c58]\n",
       "@startuml\n",
       "Title ヒゲ部\n",
       "\n",
       "skinparam handwritten true\n",
       "skinparam usecase{\n",
       "    BackgroundColor White\n",
       "    BorderColor White\n",
       "    ArrowColor Black\n",
       "}\n",
       "(けじめ) as (けじめ1)\n",
       "(けじめ) as (けじめ2)\n",
       "(けじめ) as (けじめ3)\n",
       "\n",
       "(3年間の思い出) -up-> (セクシーコマンドー) : 高校生になっても3-Bの事忘れないでね！という気持ち\n",
       "\n",
       "(セクシーコマンドー) -right-> (ヒゲ) : 省略\n",
       "(ヒゲ) -up-> (けじめ1)\n",
       "(ヒゲ) -up-> (けじめ2)\n",
       "(ヒゲ) -up-> (けじめ3)\n",
       "(学ラン) -down-> (セクシーさ)\n",
       "@enduml\n",
       "\n",
       "PlantUML version 1.2021.5beta3(Unknown compile time)\n",
       "(GPL source distribution)\n",
       "Java Runtime: Java(TM) SE Runtime Environment\n",
       "JVM: Java HotSpot(TM) 64-Bit Server VM\n",
       "Default Encoding: UTF-8\n",
       "Language: en\n",
       "Country: US\n",
       "--></g></svg>"
      ],
      "text/plain": [
       "<IPython.core.display.SVG object>"
      ]
     },
     "execution_count": 11,
     "metadata": {},
     "output_type": "execute_result"
    }
   ],
   "source": [
    "%%plantuml\n",
    "@startuml\n",
    "Title ヒゲ部\n",
    "\n",
    "skinparam handwritten true\n",
    "skinparam usecase{\n",
    "    BackgroundColor White\n",
    "    BorderColor White\n",
    "    ArrowColor Black\n",
    "}\n",
    "(けじめ) as (けじめ1)\n",
    "(けじめ) as (けじめ2)\n",
    "(けじめ) as (けじめ3)\n",
    "\n",
    "(3年間の思い出) -up-> (セクシーコマンドー) : 高校生になっても3-Bの事忘れないでね！という気持ち\n",
    "\n",
    "(セクシーコマンドー) -right-> (ヒゲ) : 省略\n",
    "(ヒゲ) -up-> (けじめ1)\n",
    "(ヒゲ) -up-> (けじめ2)\n",
    "(ヒゲ) -up-> (けじめ3)\n",
    "(学ラン) -down-> (セクシーさ)\n",
    "    \n",
    "@enduml"
   ]
  }
 ],
 "metadata": {
  "kernelspec": {
   "display_name": "Python 3 (ipykernel)",
   "language": "python",
   "name": "python3"
  },
  "language_info": {
   "codemirror_mode": {
    "name": "ipython",
    "version": 3
   },
   "file_extension": ".py",
   "mimetype": "text/x-python",
   "name": "python",
   "nbconvert_exporter": "python",
   "pygments_lexer": "ipython3",
   "version": "3.9.7"
  }
 },
 "nbformat": 4,
 "nbformat_minor": 5
}
